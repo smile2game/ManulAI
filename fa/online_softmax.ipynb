{
 "cells": [
  {
   "cell_type": "markdown",
   "metadata": {},
   "source": [
    "# softmax and safe_softmax"
   ]
  },
  {
   "cell_type": "code",
   "execution_count": 49,
   "metadata": {},
   "outputs": [
    {
     "name": "stdout",
     "output_type": "stream",
     "text": [
      "x is tensor([0, 1, 2, 3])\n",
      "x_softmax is tensor([0.0321, 0.0871, 0.2369, 0.6439])\n",
      "\n",
      "x_safe_softmax is tensor([0.0321, 0.0871, 0.2369, 0.6439])\n",
      "\n"
     ]
    }
   ],
   "source": [
    "import torch \n",
    "x = torch.arange(4)\n",
    "print(f\"x is {x}\")\n",
    "\n",
    "#普通softmax\n",
    "x_softmax = (x).exp()/(x).exp().sum()\n",
    "print(f\"x_softmax is {x_softmax}\\n\")\n",
    "\n",
    "\"\"\"\n",
    "safe softmax 同时除以全局最大的exp(max(x)),也就是在指数部分减去 x_max\n",
    "\"\"\"\n",
    "x_max = x.max()\n",
    "x_safe_softmax = (x-x_max).exp()/(x-x_max).exp().sum()\n",
    "print(f\"x_safe_softmax is {x_safe_softmax}\\n\")\n"
   ]
  },
  {
   "cell_type": "markdown",
   "metadata": {},
   "source": [
    "# online softmax"
   ]
  },
  {
   "cell_type": "code",
   "execution_count": 50,
   "metadata": {},
   "outputs": [
    {
     "name": "stdout",
     "output_type": "stream",
     "text": [
      "x_online_softmax is tensor([0.0321, 0.0871, 0.2369, 0.6439])\n"
     ]
    }
   ],
   "source": [
    "\"\"\"\n",
    "online softmax, 先算好N个数的softmax,再追加一个 x_{i+1}\n",
    "\"\"\"\n",
    "x_pre = x[:-1]\n",
    "x_max_pre = x_pre.max()\n",
    "x_sum_pre = (x_pre-x_max_pre).exp().sum()\n",
    "\n",
    "x_max_cur = torch.max(x_max_pre,x[-1])\n",
    "x_sum_cur = x_sum_pre * torch.exp(x_max_pre - x_max_cur) + torch.exp(x[-1] - x_max_cur)  #之前减去的不是全局最大值 \n",
    "\n",
    "x_online_softmax = torch.exp(x-x_max_cur) / x_sum_cur\n",
    "print(f\"x_online_softmax is {x_online_softmax}\")\n",
    "assert torch.allclose(x_safe_softmax, x_online_softmax)"
   ]
  },
  {
   "cell_type": "markdown",
   "metadata": {},
   "source": [
    "# 1d block online softmax\n",
    "\n",
    "先写了 block_num = 2，然后用for循环进行了扩展"
   ]
  },
  {
   "cell_type": "code",
   "execution_count": 51,
   "metadata": {},
   "outputs": [
    {
     "name": "stdout",
     "output_type": "stream",
     "text": [
      "x is tensor([0, 1, 2, 3]),x_max_new is 3.0,x_sum_new is 1.5530017614364624\n",
      "x_block_online_softmax is tensor([0.0321, 0.0871, 0.2369, 0.6439])\n"
     ]
    }
   ],
   "source": [
    "x_blocks = torch.split(x,split_size_or_sections=2,dim = 0)\n",
    "# x_max_block0 = x_block[0].max()\n",
    "# x_sum_block0 = torch.exp(x_block[0] - x_max_block0).sum()\n",
    "# x_max_block1 = x_block[1].max()\n",
    "# x_sum_block1 = torch.exp(x_block[1] - x_max_block1).sum() \n",
    "# x_max_global = torch.max(x_max_block0,x_max_block1)\n",
    "# x_sum_global = x_sum_block0 * torch.exp(x_max_block0 - x_max_global) + x_sum_block1 * torch.exp(x_max_block1 - x_max_global)\n",
    "\n",
    "x_max_old = torch.tensor(0.0)\n",
    "x_sum_old = torch.tensor(0.0)\n",
    "for x_block in x_blocks:\n",
    "    x_max_block = x_block.max()\n",
    "    x_max_new = torch.max(x_max_old,x_max_block)\n",
    "    x_sum_new = x_sum_old * torch.exp(x_max_old - x_max_new) + torch.exp(x_block - x_max_new).sum()\n",
    "    x_max_old = x_max_new\n",
    "    x_sum_old = x_sum_new\n",
    "\n",
    "print(f\"x is {x},x_max_new is {x_max_new},x_sum_new is {x_sum_new}\")\n",
    "x_block_online_softmax  = torch.exp(x - x_max_old)/x_sum_old\n",
    "print(f\"x_block_online_softmax is {x_block_online_softmax}\")\n",
    "assert torch.allclose(x_block_online_softmax,x_softmax)"
   ]
  },
  {
   "cell_type": "markdown",
   "metadata": {},
   "source": [
    "# 2d batch block online softmax\n",
    "\n",
    "$S=QK^T$\n",
    "\n",
    "Q (N,d)\n",
    "\n",
    "S (N,N)\n",
    "\n",
    "并行求解 k行的Q的全局 softmax，行与行之间是没有影响的，因为那都是不同的 query了，不应该互相产生影响\n",
    "\n",
    "其实就是在 数据增加到k行的情况下继续刚刚的操作"
   ]
  },
  {
   "cell_type": "code",
   "execution_count": 52,
   "metadata": {},
   "outputs": [],
   "source": [
    "x = torch.arange(16,dtype = torch.float32).reshape(4,4)\n",
    "\n",
    "x_batch_blocks = torch.split(x,split_size_or_sections=2,dim = 1)\n",
    "\n",
    "#为什么要做keepdim呢？\n",
    "x_max_batch_block0,_ = x_batch_blocks[0].max(dim = 1,keepdim = True) #这里max张量了，还有个下标 \n",
    "x_sum_batch_block0 = torch.exp(x_batch_blocks[0] - x_max_batch_block0).sum(dim =1,keepdim = True) #dim =1，就是列之间操作\n",
    "\n",
    "x_max_batch_block1,_ = x_batch_blocks[1].max(dim = 1,keepdim = True) #这里max张量了，还有个下标 \n",
    "x_sum_batch_block1 = torch.exp(x_batch_blocks[1] - x_max_batch_block1).sum(dim =1,keepdim = True) #dim =1，就是列之间操作\n",
    "\n",
    "x_max_batch_block_update = torch.maximum(x_max_batch_block0,x_max_batch_block1)\n",
    "#这里是对的 \n",
    "x_sum_batch_block_update = x_sum_batch_block0 * torch.exp(x_max_batch_block0 - x_max_batch_block_update) + torch.exp(x_batch_blocks[1] - x_max_batch_block_update).sum(dim = 1,keepdim = True)\n",
    "\n",
    "x_batch_online_softmax = torch.exp(x - x_max_batch_block_update) / x_sum_batch_block_update\n",
    "x_direct_softmax = F.softmax(x, dim=1)\n",
    "# print(f\"x_batch_online_softmax is {x_batch_online_softmax}\\n x_direct_softmax is {x_batch_online_softmax}\")\n",
    "assert torch.allclose(x_batch_online_softmax,x_direct_softmax)"
   ]
  },
  {
   "cell_type": "markdown",
   "metadata": {},
   "source": [
    "改成用 for循环来实现，实现块数量扩展"
   ]
  },
  {
   "cell_type": "code",
   "execution_count": 53,
   "metadata": {},
   "outputs": [
    {
     "name": "stdout",
     "output_type": "stream",
     "text": [
      "x_batch_online_softmax is tensor([[0.0321, 0.0871, 0.2369, 0.6439],\n",
      "        [0.0321, 0.0871, 0.2369, 0.6439],\n",
      "        [0.0321, 0.0871, 0.2369, 0.6439],\n",
      "        [0.0321, 0.0871, 0.2369, 0.6439]])\n",
      " x_direct_softmax is tensor([[0.0321, 0.0871, 0.2369, 0.6439],\n",
      "        [0.0321, 0.0871, 0.2369, 0.6439],\n",
      "        [0.0321, 0.0871, 0.2369, 0.6439],\n",
      "        [0.0321, 0.0871, 0.2369, 0.6439]])\n"
     ]
    }
   ],
   "source": [
    "x = torch.arange(16,dtype = torch.float32).reshape(4,4)\n",
    "\n",
    "x_batch_blocks = torch.split(x,split_size_or_sections=2,dim = 1)\n",
    "\n",
    "#为什么要做keepdim呢？\n",
    "x_max_old = torch.zeros(x.shape[0],1)\n",
    "x_sum_old = torch.zeros(x.shape[0],1)\n",
    "for x_batch_block in x_batch_blocks:\n",
    "    x_max_batch_block,_ = x_batch_block.max(dim = 1,keepdim = True) #这里max张量了，还有个下标 \n",
    "    x_max_new = torch.maximum(x_max_batch_block,x_max_old)\n",
    "    x_sum_new = x_sum_old * torch.exp(x_max_old - x_max_new) + torch.exp(x_batch_block - x_max_new).sum(dim = 1,keepdim = True)\n",
    "    x_max_old = x_max_new\n",
    "    x_sum_old = x_sum_new\n",
    "x_batch_online_softmax = torch.exp(x - x_max_old) / x_sum_old\n",
    "\n",
    "\n",
    "import torch.nn.functional as F\n",
    "x_direct_softmax = F.softmax(x, dim=1)\n",
    "\n",
    "print(f\"x_batch_online_softmax is {x_batch_online_softmax}\\n x_direct_softmax is {x_direct_softmax}\")\n",
    "assert torch.allclose(x_batch_online_softmax,x_direct_softmax)"
   ]
  }
 ],
 "metadata": {
  "kernelspec": {
   "display_name": "dits",
   "language": "python",
   "name": "python3"
  },
  "language_info": {
   "codemirror_mode": {
    "name": "ipython",
    "version": 3
   },
   "file_extension": ".py",
   "mimetype": "text/x-python",
   "name": "python",
   "nbconvert_exporter": "python",
   "pygments_lexer": "ipython3",
   "version": "3.10.16"
  }
 },
 "nbformat": 4,
 "nbformat_minor": 2
}
